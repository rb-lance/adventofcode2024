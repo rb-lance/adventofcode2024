{
 "cells": [
  {
   "cell_type": "code",
   "execution_count": 14,
   "metadata": {},
   "outputs": [],
   "source": [
    "from urllib.request import urlopen\n",
    "list_a =[]\n",
    "list_b = []\n",
    "with open('input.txt', 'r') as f:\n",
    "    for line in f:\n",
    "        a,b = [i for i in line.replace(' ', '\\n').split('\\n') if i !='']\n",
    "        list_a.append(int(a))\n",
    "        list_b.append(int(b))\n",
    "\n",
    "\n",
    "\n",
    "        "
   ]
  },
  {
   "cell_type": "code",
   "execution_count": 17,
   "metadata": {},
   "outputs": [
    {
     "data": {
      "text/plain": [
       "1530215"
      ]
     },
     "execution_count": 17,
     "metadata": {},
     "output_type": "execute_result"
    }
   ],
   "source": [
    "list_a.sort()\n",
    "list_b.sort()\n",
    "res = [ abs(list_a[i] - list_b[i]) for i in range(len(list_a))]\n",
    "sum(res)"
   ]
  },
  {
   "cell_type": "code",
   "execution_count": 18,
   "metadata": {},
   "outputs": [
    {
     "data": {
      "text/plain": [
       "26800609"
      ]
     },
     "execution_count": 18,
     "metadata": {},
     "output_type": "execute_result"
    }
   ],
   "source": [
    "dic = {}\n",
    "for i in list_b:\n",
    "    dic[i] = dic.get(i,0) + 1\n",
    "ans = 0\n",
    "for i in list_a:\n",
    "    if i in dic:\n",
    "        ans += i * dic[i]\n",
    "ans"
   ]
  }
 ],
 "metadata": {
  "kernelspec": {
   "display_name": "Python 3",
   "language": "python",
   "name": "python3"
  },
  "language_info": {
   "codemirror_mode": {
    "name": "ipython",
    "version": 3
   },
   "file_extension": ".py",
   "mimetype": "text/x-python",
   "name": "python",
   "nbconvert_exporter": "python",
   "pygments_lexer": "ipython3",
   "version": "3.11.10"
  }
 },
 "nbformat": 4,
 "nbformat_minor": 2
}
